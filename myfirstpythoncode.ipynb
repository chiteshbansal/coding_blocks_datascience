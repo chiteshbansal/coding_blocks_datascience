{
 "cells": [
  {
   "cell_type": "code",
   "execution_count": 44,
   "id": "rolled-tongue",
   "metadata": {},
   "outputs": [],
   "source": [
    "class Car:\n",
    "    def __init__(self,model,mileage):\n",
    "        self.model = model\n",
    "        self.mileage = mileage\n",
    "    \n",
    "    def __str__(self):\n",
    "        return \"{}{}\".format(self.model,self.mileage)\n",
    "    \n",
    "    def __repr__(self):\n",
    "        return \"{}\".format(self.model)\n",
    "    \n",
    "    def __eq__(self,other):\n",
    "        return self.mileage==other.mileage\n",
    "    def __add__(self,other):\n",
    "        return self.mileage + other.mileage\n",
    "    "
   ]
  },
  {
   "cell_type": "code",
   "execution_count": 46,
   "id": "asian-scanning",
   "metadata": {},
   "outputs": [
    {
     "name": "stdout",
     "output_type": "stream",
     "text": [
      "False\n",
      "23\n"
     ]
    }
   ],
   "source": [
    "a = Car('a','2')\n",
    "b = Car('b','3')\n",
    "print(a==b)\n",
    "print(a+b)"
   ]
  },
  {
   "cell_type": "code",
   "execution_count": 40,
   "id": "loaded-disney",
   "metadata": {},
   "outputs": [
    {
     "name": "stdout",
     "output_type": "stream",
     "text": [
      "a2\n"
     ]
    }
   ],
   "source": [
    "print(a)"
   ]
  },
  {
   "cell_type": "code",
   "execution_count": 41,
   "id": "voluntary-julian",
   "metadata": {},
   "outputs": [
    {
     "data": {
      "text/plain": [
       "a"
      ]
     },
     "execution_count": 41,
     "metadata": {},
     "output_type": "execute_result"
    }
   ],
   "source": [
    "a"
   ]
  },
  {
   "cell_type": "code",
   "execution_count": 48,
   "id": "female-consciousness",
   "metadata": {},
   "outputs": [
    {
     "name": "stdout",
     "output_type": "stream",
     "text": [
      "chitesh himanshu "
     ]
    },
    {
     "data": {
      "text/plain": [
       "<__main__.Ostream at 0x1c25ab637f0>"
      ]
     },
     "execution_count": 48,
     "metadata": {},
     "output_type": "execute_result"
    }
   ],
   "source": [
    "class Ostream:\n",
    "    def __lshift__(self,other):\n",
    "        print(other,end=\" \")\n",
    "        return self\n",
    "cout = Ostream();\n",
    "cout << \"chitesh\" << \"himanshu\""
   ]
  },
  {
   "cell_type": "code",
   "execution_count": 56,
   "id": "supreme-demand",
   "metadata": {},
   "outputs": [
    {
     "name": "stdout",
     "output_type": "stream",
     "text": [
      "['jump', 'walk']\n",
      "[]\n",
      "1934257135040 1934257065344\n"
     ]
    }
   ],
   "source": [
    "class Dog:\n",
    "    name = ''\n",
    "    def __init__(self,name):\n",
    "        self.name = name\n",
    "        self.tricks =[]\n",
    "        \n",
    "    def add_trick(self,other):\n",
    "       self.tricks.append(other)\n",
    "a = Dog('bruno ')\n",
    "a.add_trick('jump')\n",
    "a.add_trick('walk')\n",
    "print(a.tricks)\n",
    "b = Dog('max')\n",
    "print(b.tricks)\n",
    "print(id(a.tricks),id(b.tricks))"
   ]
  },
  {
   "cell_type": "code",
   "execution_count": null,
   "id": "alien-toolbox",
   "metadata": {},
   "outputs": [],
   "source": []
  }
 ],
 "metadata": {
  "kernelspec": {
   "display_name": "Python 3",
   "language": "python",
   "name": "python3"
  },
  "language_info": {
   "codemirror_mode": {
    "name": "ipython",
    "version": 3
   },
   "file_extension": ".py",
   "mimetype": "text/x-python",
   "name": "python",
   "nbconvert_exporter": "python",
   "pygments_lexer": "ipython3",
   "version": "3.8.3"
  }
 },
 "nbformat": 4,
 "nbformat_minor": 5
}
